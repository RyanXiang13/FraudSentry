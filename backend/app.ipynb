{
 "cells": [
  {
   "cell_type": "markdown",
   "metadata": {},
   "source": [
    "## Fraud Detection using Machine Learning\n",
    "##### using a logistic regression model to predict binary outcome of wheteher fraud is detected in a statement"
   ]
  },
  {
   "cell_type": "code",
   "execution_count": 38,
   "metadata": {},
   "outputs": [],
   "source": [
    "import pandas as pd\n",
    "import numpy as np\n",
    "\n",
    "import tensorflow as tf\n",
    "from tensorflow.keras.models import Sequential\n",
    "from tensorflow.keras.layers import Input, Dense\n",
    "from tensorflow.keras.callbacks import EarlyStopping\n",
    "\n",
    "from sklearn.model_selection import train_test_split\n",
    "from sklearn.preprocessing import StandardScaler, OneHotEncoder\n",
    "from sklearn.compose import ColumnTransformer\n",
    "from sklearn.metrics import classification_report, confusion_matrix, accuracy_score"
   ]
  },
  {
   "cell_type": "code",
   "execution_count": 25,
   "metadata": {},
   "outputs": [],
   "source": [
    "# USING THE FOLLOWING FEATURES:\n",
    "# category, amt, gender, state, city_pop, job, dob, is_fraud\n",
    "\n",
    "data = pd.read_csv('fraudTrain.csv')"
   ]
  },
  {
   "cell_type": "code",
   "execution_count": 26,
   "metadata": {},
   "outputs": [],
   "source": [
    "# Convert dob to age\n",
    "\n",
    "data['dob'] = pd.to_datetime(data['dob'])\n",
    "\n",
    "# Calculate age\n",
    "current_year = pd.to_datetime('now').year\n",
    "data['age'] = current_year - data['dob'].dt.year\n",
    "\n",
    "# Drop 'dob' and replace with 'age' for column clarity\n",
    "data.drop(['dob'], axis=1, inplace=True)"
   ]
  },
  {
   "cell_type": "code",
   "execution_count": 27,
   "metadata": {},
   "outputs": [],
   "source": [
    "# Split data into training and test sets\n",
    "X = data[['category', 'amt', 'gender', 'state', 'city_pop', 'job', 'age']]\n",
    "y = data['is_fraud']\n",
    "\n",
    "X_train, X_val, y_train, y_val = train_test_split(X, y, test_size=0.3, random_state=42)\n"
   ]
  },
  {
   "cell_type": "code",
   "execution_count": 30,
   "metadata": {},
   "outputs": [],
   "source": [
    "# Separate the features that require encoding\n",
    "string_features = ['category', 'gender', 'job', 'state']\n",
    "numeric_features = ['amt', 'city_pop', 'age']\n",
    "\n",
    "# Create column transformer to encode\n",
    "\n",
    "preprocessor = ColumnTransformer(\n",
    "    transformers=[\n",
    "        ('num', StandardScaler(), numeric_features),\n",
    "        ('str', OneHotEncoder(handle_unknown='ignore'), string_features)\n",
    "    ]\n",
    ")\n",
    "\n",
    "X_train_processed = preprocessor.fit_transform(X_train)\n",
    "X_val_processed = preprocessor.transform(X_val)\n"
   ]
  },
  {
   "cell_type": "code",
   "execution_count": 33,
   "metadata": {},
   "outputs": [],
   "source": [
    "# Get the number of features after preprocessing\n",
    "num_features = X_train_processed.shape[1]\n",
    "\n",
    "# Build the neural network model\n",
    "model = Sequential([\n",
    "    Input(shape=(num_features,)),  # Define input layer explicitly\n",
    "    Dense(64, activation='relu'),\n",
    "    Dense(32, activation='relu'),\n",
    "    Dense(1, activation='sigmoid')  # Output layer for binary classification\n",
    "])\n",
    "\n",
    "# Compile the model\n",
    "model.compile(optimizer='adam', loss='binary_crossentropy', metrics=['accuracy'])"
   ]
  },
  {
   "cell_type": "code",
   "execution_count": 35,
   "metadata": {},
   "outputs": [
    {
     "name": "stdout",
     "output_type": "stream",
     "text": [
      "Epoch 1/10\n",
      "\u001b[1m28365/28365\u001b[0m \u001b[32m━━━━━━━━━━━━━━━━━━━━\u001b[0m\u001b[37m\u001b[0m \u001b[1m29s\u001b[0m 1ms/step - accuracy: 0.9969 - loss: 0.0112 - val_accuracy: 0.9967 - val_loss: 0.0113\n",
      "Epoch 2/10\n",
      "\u001b[1m28365/28365\u001b[0m \u001b[32m━━━━━━━━━━━━━━━━━━━━\u001b[0m\u001b[37m\u001b[0m \u001b[1m34s\u001b[0m 1ms/step - accuracy: 0.9973 - loss: 0.0102 - val_accuracy: 0.9972 - val_loss: 0.0105\n",
      "Epoch 3/10\n",
      "\u001b[1m28365/28365\u001b[0m \u001b[32m━━━━━━━━━━━━━━━━━━━━\u001b[0m\u001b[37m\u001b[0m \u001b[1m32s\u001b[0m 1ms/step - accuracy: 0.9975 - loss: 0.0097 - val_accuracy: 0.9970 - val_loss: 0.0109\n",
      "Epoch 4/10\n",
      "\u001b[1m28365/28365\u001b[0m \u001b[32m━━━━━━━━━━━━━━━━━━━━\u001b[0m\u001b[37m\u001b[0m \u001b[1m33s\u001b[0m 1ms/step - accuracy: 0.9976 - loss: 0.0090 - val_accuracy: 0.9972 - val_loss: 0.0105\n",
      "Epoch 5/10\n",
      "\u001b[1m28365/28365\u001b[0m \u001b[32m━━━━━━━━━━━━━━━━━━━━\u001b[0m\u001b[37m\u001b[0m \u001b[1m31s\u001b[0m 1ms/step - accuracy: 0.9978 - loss: 0.0087 - val_accuracy: 0.9969 - val_loss: 0.0121\n",
      "Epoch 6/10\n",
      "\u001b[1m28365/28365\u001b[0m \u001b[32m━━━━━━━━━━━━━━━━━━━━\u001b[0m\u001b[37m\u001b[0m \u001b[1m32s\u001b[0m 1ms/step - accuracy: 0.9977 - loss: 0.0086 - val_accuracy: 0.9973 - val_loss: 0.0101\n",
      "Epoch 7/10\n",
      "\u001b[1m28365/28365\u001b[0m \u001b[32m━━━━━━━━━━━━━━━━━━━━\u001b[0m\u001b[37m\u001b[0m \u001b[1m36s\u001b[0m 1ms/step - accuracy: 0.9978 - loss: 0.0086 - val_accuracy: 0.9973 - val_loss: 0.0102\n",
      "Epoch 8/10\n",
      "\u001b[1m28365/28365\u001b[0m \u001b[32m━━━━━━━━━━━━━━━━━━━━\u001b[0m\u001b[37m\u001b[0m \u001b[1m35s\u001b[0m 1ms/step - accuracy: 0.9978 - loss: 0.0082 - val_accuracy: 0.9973 - val_loss: 0.0101\n",
      "Epoch 9/10\n",
      "\u001b[1m28365/28365\u001b[0m \u001b[32m━━━━━━━━━━━━━━━━━━━━\u001b[0m\u001b[37m\u001b[0m \u001b[1m36s\u001b[0m 1ms/step - accuracy: 0.9979 - loss: 0.0079 - val_accuracy: 0.9972 - val_loss: 0.0102\n",
      "Epoch 10/10\n",
      "\u001b[1m28365/28365\u001b[0m \u001b[32m━━━━━━━━━━━━━━━━━━━━\u001b[0m\u001b[37m\u001b[0m \u001b[1m32s\u001b[0m 1ms/step - accuracy: 0.9980 - loss: 0.0080 - val_accuracy: 0.9972 - val_loss: 0.0101\n"
     ]
    }
   ],
   "source": [
    "# Define early stopping to avoid overfitting\n",
    "early_stopping = EarlyStopping(monitor='val_loss', patience=5, restore_best_weights=True) # Stop if no large change in 5 consecutive epochs\n",
    "\n",
    "# Train the model\n",
    "history = model.fit(\n",
    "    X_train_processed, y_train,\n",
    "    epochs=10,  # Number of epochs\n",
    "    batch_size=32,  # Batch size for training\n",
    "    validation_data=(X_val_processed, y_val),\n",
    "    callbacks=[early_stopping]  # Use early stopping\n",
    ")"
   ]
  },
  {
   "cell_type": "code",
   "execution_count": 39,
   "metadata": {},
   "outputs": [
    {
     "name": "stdout",
     "output_type": "stream",
     "text": [
      "12157/12157 - 6s - 506us/step - accuracy: 0.9972 - loss: 0.0101\n",
      "Validation Loss: 0.010088072158396244\n",
      "Validation Accuracy: 0.9972365498542786\n",
      "\u001b[1m12157/12157\u001b[0m \u001b[32m━━━━━━━━━━━━━━━━━━━━\u001b[0m\u001b[37m\u001b[0m \u001b[1m11s\u001b[0m 867us/step\n",
      "Confusion Matrix:\n",
      "tf.Tensor(\n",
      "[[386349    369]\n",
      " [   706   1579]], shape=(2, 2), dtype=int32)\n",
      "\n",
      "Classification Report:\n",
      "              precision    recall  f1-score   support\n",
      "\n",
      "           0       1.00      1.00      1.00    386718\n",
      "           1       0.81      0.69      0.75      2285\n",
      "\n",
      "    accuracy                           1.00    389003\n",
      "   macro avg       0.90      0.85      0.87    389003\n",
      "weighted avg       1.00      1.00      1.00    389003\n",
      "\n",
      "Accuracy: 0.9972365251681864\n"
     ]
    }
   ],
   "source": [
    "# Evaluate the model on validation data\n",
    "val_loss, val_accuracy = model.evaluate(X_val_processed, y_val, verbose=2)\n",
    "\n",
    "print(f'Validation Loss: {val_loss}')\n",
    "print(f'Validation Accuracy: {val_accuracy}')\n",
    "\n",
    "# Predict on the validation data\n",
    "y_pred_prob = model.predict(X_val_processed)\n",
    "y_pred = (y_pred_prob > 0.5).astype(int)  # Convert probabilities to binary predictions\n",
    "\n",
    "# Evaluate the model\n",
    "print('Confusion Matrix:')\n",
    "print(tf.math.confusion_matrix(y_val, y_pred))\n",
    "\n",
    "print('\\nClassification Report:')\n",
    "print(classification_report(y_val, y_pred))\n",
    "\n",
    "print('Accuracy:', accuracy_score(y_val, y_pred))"
   ]
  }
 ],
 "metadata": {
  "kernelspec": {
   "display_name": "Python 3",
   "language": "python",
   "name": "python3"
  },
  "language_info": {
   "codemirror_mode": {
    "name": "ipython",
    "version": 3
   },
   "file_extension": ".py",
   "mimetype": "text/x-python",
   "name": "python",
   "nbconvert_exporter": "python",
   "pygments_lexer": "ipython3",
   "version": "3.11.9"
  }
 },
 "nbformat": 4,
 "nbformat_minor": 2
}
